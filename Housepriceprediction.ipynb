{
  "nbformat": 4,
  "nbformat_minor": 0,
  "metadata": {
    "colab": {
      "provenance": []
    },
    "kernelspec": {
      "name": "python3",
      "display_name": "Python 3"
    },
    "language_info": {
      "name": "python"
    }
  },
  "cells": [
    {
      "cell_type": "code",
      "execution_count": 1,
      "metadata": {
        "id": "jP8I1ICzOajj"
      },
      "outputs": [],
      "source": [
        "#importing dataset\n",
        "import tensorflow as tf\n",
        "from tensorflow.keras.datasets import boston_housing\n",
        "from sklearn import preprocessing"
      ]
    },
    {
      "cell_type": "code",
      "source": [
        "#creating 2 tuples train and test\n",
        "(train_x,train_y),(test_x,test_y)=boston_housing.load_data()"
      ],
      "metadata": {
        "colab": {
          "base_uri": "https://localhost:8080/"
        },
        "id": "mdZosnPvTzJs",
        "outputId": "f9a48d2f-d6ab-46d2-fc37-78a71a8328c0"
      },
      "execution_count": 2,
      "outputs": [
        {
          "output_type": "stream",
          "name": "stdout",
          "text": [
            "Downloading data from https://storage.googleapis.com/tensorflow/tf-keras-datasets/boston_housing.npz\n",
            "57026/57026 [==============================] - 0s 0us/step\n"
          ]
        }
      ]
    },
    {
      "cell_type": "code",
      "source": [
        "#checking shape of train and test\n",
        "print('train shape :',train_x.shape)\n",
        "print('train shape :',train_y.shape)\n",
        "print('actual train output :',test_x.shape)\n",
        "print('actual test output :',test_y.shape)\n"
      ],
      "metadata": {
        "colab": {
          "base_uri": "https://localhost:8080/"
        },
        "id": "HcJi6CPGUE2O",
        "outputId": "b5e8ef52-3ce3-43c7-f6e2-6976bce7f201"
      },
      "execution_count": 3,
      "outputs": [
        {
          "output_type": "stream",
          "name": "stdout",
          "text": [
            "train shape : (404, 13)\n",
            "train shape : (404,)\n",
            "actual train output : (102, 13)\n",
            "actual test output : (102,)\n"
          ]
        }
      ]
    },
    {
      "cell_type": "code",
      "source": [
        "#first value in train\n",
        "train_x[0]"
      ],
      "metadata": {
        "colab": {
          "base_uri": "https://localhost:8080/"
        },
        "id": "XJ1w4dhaUcVd",
        "outputId": "59a7c00e-9a0c-4ba9-ae69-0173d0d9c569"
      },
      "execution_count": 4,
      "outputs": [
        {
          "output_type": "execute_result",
          "data": {
            "text/plain": [
              "array([  1.23247,   0.     ,   8.14   ,   0.     ,   0.538  ,   6.142  ,\n",
              "        91.7    ,   3.9769 ,   4.     , 307.     ,  21.     , 396.9    ,\n",
              "        18.72   ])"
            ]
          },
          "metadata": {},
          "execution_count": 4
        }
      ]
    },
    {
      "cell_type": "code",
      "source": [
        "train_y[0]"
      ],
      "metadata": {
        "colab": {
          "base_uri": "https://localhost:8080/"
        },
        "id": "tJJ-pr87Ufj8",
        "outputId": "ecfef94e-4a57-405b-966e-02e641a0c6a0"
      },
      "execution_count": 5,
      "outputs": [
        {
          "output_type": "execute_result",
          "data": {
            "text/plain": [
              "15.2"
            ]
          },
          "metadata": {},
          "execution_count": 5
        }
      ]
    },
    {
      "cell_type": "code",
      "source": [
        "# converting large values to range between 0 & 1\n",
        "train_x=preprocessing.normalize(train_x)\n",
        "test_x=preprocessing.normalize(test_x)"
      ],
      "metadata": {
        "id": "mAOoKvrGUjd8"
      },
      "execution_count": 7,
      "outputs": []
    },
    {
      "cell_type": "code",
      "source": [
        "# converted values\n",
        "train_x[0]"
      ],
      "metadata": {
        "colab": {
          "base_uri": "https://localhost:8080/"
        },
        "id": "RCXaEEhLVFX7",
        "outputId": "0311f2fa-c0a6-4825-c1d0-2f34e3e39de8"
      },
      "execution_count": 8,
      "outputs": [
        {
          "output_type": "execute_result",
          "data": {
            "text/plain": [
              "array([0.0024119 , 0.        , 0.01592969, 0.        , 0.00105285,\n",
              "       0.01201967, 0.17945359, 0.00778265, 0.00782786, 0.6007879 ,\n",
              "       0.04109624, 0.77671895, 0.03663436])"
            ]
          },
          "metadata": {},
          "execution_count": 8
        }
      ]
    },
    {
      "cell_type": "code",
      "source": [
        "train_y[0]"
      ],
      "metadata": {
        "colab": {
          "base_uri": "https://localhost:8080/"
        },
        "id": "g0keZotaVIlx",
        "outputId": "00ec1f4c-241b-4e95-f0d9-e73dc724355d"
      },
      "execution_count": 9,
      "outputs": [
        {
          "output_type": "execute_result",
          "data": {
            "text/plain": [
              "15.2"
            ]
          },
          "metadata": {},
          "execution_count": 9
        }
      ]
    },
    {
      "cell_type": "code",
      "source": [
        "# building model \n",
        "from tensorflow.keras.models import Sequential\n",
        "from tensorflow.keras.layers import *\n",
        "\n",
        "def houseprice():\n",
        "  model=Sequential()\n",
        "  model.add(Dense(128,activation='relu',input_shape=(train_x[0].shape)))\n",
        "  model.add(Dense(64,activation='relu'))\n",
        "  model.add(Dense(32,activation='relu'))\n",
        "  model.add(Dense(1))\n",
        "  model.compile(optimizer='rmsprop',loss='mse',metrics=['mae'])\n",
        "  return model"
      ],
      "metadata": {
        "id": "Bb7yXvW1VLst"
      },
      "execution_count": 18,
      "outputs": []
    },
    {
      "cell_type": "code",
      "source": [
        "import numpy as np\n",
        "k=4\n",
        "num_value_samples=len(train_x)\n",
        "all_scores=[]"
      ],
      "metadata": {
        "id": "7Dh8ShaVWUF4"
      },
      "execution_count": 19,
      "outputs": []
    },
    {
      "cell_type": "code",
      "source": [
        "# compiling model\n",
        "model=houseprice()\n",
        "history=model.fit(x=train_x,y=train_y,epochs=100,batch_size=1,verbose=1,validation_data=(test_x,test_y))"
      ],
      "metadata": {
        "colab": {
          "base_uri": "https://localhost:8080/"
        },
        "id": "bd8YzD_2WifI",
        "outputId": "2d202308-178b-42d7-bdd3-93803273da66"
      },
      "execution_count": 20,
      "outputs": [
        {
          "output_type": "stream",
          "name": "stdout",
          "text": [
            "Epoch 1/100\n",
            "404/404 [==============================] - 2s 2ms/step - loss: 134.9432 - mae: 8.3056 - val_loss: 74.4532 - val_mae: 6.0504\n",
            "Epoch 2/100\n",
            "404/404 [==============================] - 1s 2ms/step - loss: 69.1098 - mae: 5.8150 - val_loss: 64.2521 - val_mae: 5.7154\n",
            "Epoch 3/100\n",
            "404/404 [==============================] - 1s 2ms/step - loss: 63.5537 - mae: 5.4813 - val_loss: 59.5510 - val_mae: 5.9680\n",
            "Epoch 4/100\n",
            "404/404 [==============================] - 1s 2ms/step - loss: 61.4756 - mae: 5.4669 - val_loss: 56.9085 - val_mae: 5.4583\n",
            "Epoch 5/100\n",
            "404/404 [==============================] - 1s 2ms/step - loss: 58.6353 - mae: 5.3552 - val_loss: 53.5603 - val_mae: 5.4714\n",
            "Epoch 6/100\n",
            "404/404 [==============================] - 1s 2ms/step - loss: 57.1421 - mae: 5.1685 - val_loss: 54.9183 - val_mae: 5.3201\n",
            "Epoch 7/100\n",
            "404/404 [==============================] - 1s 2ms/step - loss: 56.3922 - mae: 5.0227 - val_loss: 53.9096 - val_mae: 5.2380\n",
            "Epoch 8/100\n",
            "404/404 [==============================] - 1s 2ms/step - loss: 54.6413 - mae: 5.0135 - val_loss: 55.2968 - val_mae: 5.7370\n",
            "Epoch 9/100\n",
            "404/404 [==============================] - 1s 2ms/step - loss: 52.2492 - mae: 5.0102 - val_loss: 48.6138 - val_mae: 5.0964\n",
            "Epoch 10/100\n",
            "404/404 [==============================] - 1s 2ms/step - loss: 51.4946 - mae: 4.8210 - val_loss: 58.7769 - val_mae: 5.3992\n",
            "Epoch 11/100\n",
            "404/404 [==============================] - 1s 2ms/step - loss: 49.9069 - mae: 4.7503 - val_loss: 49.4547 - val_mae: 4.9143\n",
            "Epoch 12/100\n",
            "404/404 [==============================] - 1s 2ms/step - loss: 49.1655 - mae: 4.7283 - val_loss: 49.7959 - val_mae: 4.9375\n",
            "Epoch 13/100\n",
            "404/404 [==============================] - 1s 2ms/step - loss: 46.4451 - mae: 4.6244 - val_loss: 46.5138 - val_mae: 5.1740\n",
            "Epoch 14/100\n",
            "404/404 [==============================] - 1s 2ms/step - loss: 45.6080 - mae: 4.5277 - val_loss: 43.1921 - val_mae: 4.5658\n",
            "Epoch 15/100\n",
            "404/404 [==============================] - 1s 2ms/step - loss: 44.9274 - mae: 4.4955 - val_loss: 40.5191 - val_mae: 4.6334\n",
            "Epoch 16/100\n",
            "404/404 [==============================] - 1s 2ms/step - loss: 42.3521 - mae: 4.5118 - val_loss: 40.3633 - val_mae: 4.6823\n",
            "Epoch 17/100\n",
            "404/404 [==============================] - 1s 2ms/step - loss: 41.2352 - mae: 4.4767 - val_loss: 40.6527 - val_mae: 4.3952\n",
            "Epoch 18/100\n",
            "404/404 [==============================] - 1s 2ms/step - loss: 39.5843 - mae: 4.3060 - val_loss: 37.3978 - val_mae: 4.1980\n",
            "Epoch 19/100\n",
            "404/404 [==============================] - 1s 2ms/step - loss: 39.0728 - mae: 4.2946 - val_loss: 40.2586 - val_mae: 4.3859\n",
            "Epoch 20/100\n",
            "404/404 [==============================] - 1s 2ms/step - loss: 37.5285 - mae: 4.2252 - val_loss: 36.8424 - val_mae: 4.1667\n",
            "Epoch 21/100\n",
            "404/404 [==============================] - 1s 2ms/step - loss: 37.0861 - mae: 4.2480 - val_loss: 33.9397 - val_mae: 4.0405\n",
            "Epoch 22/100\n",
            "404/404 [==============================] - 1s 2ms/step - loss: 35.5656 - mae: 4.1491 - val_loss: 32.2886 - val_mae: 4.1984\n",
            "Epoch 23/100\n",
            "404/404 [==============================] - 1s 2ms/step - loss: 34.5071 - mae: 4.2262 - val_loss: 30.0007 - val_mae: 3.8529\n",
            "Epoch 24/100\n",
            "404/404 [==============================] - 1s 2ms/step - loss: 33.9784 - mae: 4.0737 - val_loss: 32.6393 - val_mae: 4.2818\n",
            "Epoch 25/100\n",
            "404/404 [==============================] - 1s 2ms/step - loss: 33.6853 - mae: 4.0501 - val_loss: 33.8324 - val_mae: 4.5834\n",
            "Epoch 26/100\n",
            "404/404 [==============================] - 1s 2ms/step - loss: 32.6629 - mae: 4.0749 - val_loss: 32.2342 - val_mae: 4.3853\n",
            "Epoch 27/100\n",
            "404/404 [==============================] - 1s 2ms/step - loss: 31.4308 - mae: 3.9623 - val_loss: 30.2738 - val_mae: 3.8489\n",
            "Epoch 28/100\n",
            "404/404 [==============================] - 1s 2ms/step - loss: 31.0855 - mae: 3.8768 - val_loss: 34.6973 - val_mae: 4.0786\n",
            "Epoch 29/100\n",
            "404/404 [==============================] - 1s 2ms/step - loss: 30.7297 - mae: 3.9720 - val_loss: 27.9092 - val_mae: 3.9540\n",
            "Epoch 30/100\n",
            "404/404 [==============================] - 1s 2ms/step - loss: 30.3271 - mae: 3.7954 - val_loss: 27.6855 - val_mae: 3.9206\n",
            "Epoch 31/100\n",
            "404/404 [==============================] - 1s 2ms/step - loss: 30.0553 - mae: 3.8444 - val_loss: 27.5935 - val_mae: 3.8351\n",
            "Epoch 32/100\n",
            "404/404 [==============================] - 1s 2ms/step - loss: 29.1990 - mae: 3.7817 - val_loss: 30.7232 - val_mae: 4.4324\n",
            "Epoch 33/100\n",
            "404/404 [==============================] - 1s 2ms/step - loss: 28.3541 - mae: 3.7508 - val_loss: 41.1677 - val_mae: 4.5968\n",
            "Epoch 34/100\n",
            "404/404 [==============================] - 1s 2ms/step - loss: 28.1452 - mae: 3.7459 - val_loss: 28.2268 - val_mae: 3.7292\n",
            "Epoch 35/100\n",
            "404/404 [==============================] - 1s 2ms/step - loss: 27.4424 - mae: 3.6764 - val_loss: 34.3378 - val_mae: 4.0527\n",
            "Epoch 36/100\n",
            "404/404 [==============================] - 1s 2ms/step - loss: 27.2365 - mae: 3.6545 - val_loss: 25.5597 - val_mae: 3.7803\n",
            "Epoch 37/100\n",
            "404/404 [==============================] - 1s 2ms/step - loss: 27.3760 - mae: 3.7118 - val_loss: 27.9170 - val_mae: 4.2072\n",
            "Epoch 38/100\n",
            "404/404 [==============================] - 1s 2ms/step - loss: 25.6919 - mae: 3.5956 - val_loss: 27.0901 - val_mae: 4.1594\n",
            "Epoch 39/100\n",
            "404/404 [==============================] - 1s 2ms/step - loss: 25.9273 - mae: 3.6955 - val_loss: 24.9422 - val_mae: 3.7024\n",
            "Epoch 40/100\n",
            "404/404 [==============================] - 1s 2ms/step - loss: 25.5136 - mae: 3.6027 - val_loss: 36.3580 - val_mae: 4.2825\n",
            "Epoch 41/100\n",
            "404/404 [==============================] - 1s 2ms/step - loss: 23.9049 - mae: 3.4018 - val_loss: 25.7682 - val_mae: 3.5753\n",
            "Epoch 42/100\n",
            "404/404 [==============================] - 1s 2ms/step - loss: 23.3807 - mae: 3.4573 - val_loss: 24.6904 - val_mae: 3.4898\n",
            "Epoch 43/100\n",
            "404/404 [==============================] - 1s 2ms/step - loss: 23.6231 - mae: 3.4175 - val_loss: 25.9600 - val_mae: 3.5731\n",
            "Epoch 44/100\n",
            "404/404 [==============================] - 1s 2ms/step - loss: 22.9612 - mae: 3.4167 - val_loss: 25.2017 - val_mae: 3.6799\n",
            "Epoch 45/100\n",
            "404/404 [==============================] - 1s 2ms/step - loss: 22.9845 - mae: 3.3772 - val_loss: 26.1041 - val_mae: 3.9369\n",
            "Epoch 46/100\n",
            "404/404 [==============================] - 1s 2ms/step - loss: 22.4056 - mae: 3.3763 - val_loss: 24.6193 - val_mae: 3.5327\n",
            "Epoch 47/100\n",
            "404/404 [==============================] - 1s 2ms/step - loss: 21.4749 - mae: 3.2727 - val_loss: 30.2940 - val_mae: 3.8929\n",
            "Epoch 48/100\n",
            "404/404 [==============================] - 1s 2ms/step - loss: 20.8378 - mae: 3.3243 - val_loss: 32.8683 - val_mae: 4.0241\n",
            "Epoch 49/100\n",
            "404/404 [==============================] - 1s 2ms/step - loss: 21.0280 - mae: 3.3389 - val_loss: 25.0960 - val_mae: 3.6164\n",
            "Epoch 50/100\n",
            "404/404 [==============================] - 1s 2ms/step - loss: 20.7873 - mae: 3.2506 - val_loss: 25.9313 - val_mae: 3.5890\n",
            "Epoch 51/100\n",
            "404/404 [==============================] - 1s 2ms/step - loss: 20.9205 - mae: 3.2152 - val_loss: 26.0967 - val_mae: 3.7008\n",
            "Epoch 52/100\n",
            "404/404 [==============================] - 1s 2ms/step - loss: 20.6003 - mae: 3.2652 - val_loss: 28.4579 - val_mae: 3.7602\n",
            "Epoch 53/100\n",
            "404/404 [==============================] - 1s 2ms/step - loss: 20.5841 - mae: 3.3042 - val_loss: 27.5230 - val_mae: 3.8832\n",
            "Epoch 54/100\n",
            "404/404 [==============================] - 1s 2ms/step - loss: 19.5005 - mae: 3.0976 - val_loss: 30.8798 - val_mae: 4.0936\n",
            "Epoch 55/100\n",
            "404/404 [==============================] - 1s 2ms/step - loss: 20.1289 - mae: 3.2348 - val_loss: 26.9410 - val_mae: 3.7235\n",
            "Epoch 56/100\n",
            "404/404 [==============================] - 1s 2ms/step - loss: 20.1464 - mae: 3.3120 - val_loss: 28.5049 - val_mae: 3.7546\n",
            "Epoch 57/100\n",
            "404/404 [==============================] - 1s 2ms/step - loss: 18.7795 - mae: 3.1634 - val_loss: 36.7186 - val_mae: 4.2549\n",
            "Epoch 58/100\n",
            "404/404 [==============================] - 1s 2ms/step - loss: 19.4712 - mae: 3.2165 - val_loss: 26.6901 - val_mae: 3.5828\n",
            "Epoch 59/100\n",
            "404/404 [==============================] - 1s 2ms/step - loss: 18.6264 - mae: 3.1332 - val_loss: 32.2773 - val_mae: 3.9499\n",
            "Epoch 60/100\n",
            "404/404 [==============================] - 1s 2ms/step - loss: 17.7949 - mae: 3.1262 - val_loss: 46.7061 - val_mae: 5.5273\n",
            "Epoch 61/100\n",
            "404/404 [==============================] - 1s 2ms/step - loss: 19.7820 - mae: 3.1688 - val_loss: 28.4374 - val_mae: 3.6803\n",
            "Epoch 62/100\n",
            "404/404 [==============================] - 1s 2ms/step - loss: 18.9743 - mae: 3.1520 - val_loss: 31.2344 - val_mae: 3.9408\n",
            "Epoch 63/100\n",
            "404/404 [==============================] - 1s 2ms/step - loss: 18.5566 - mae: 3.0716 - val_loss: 30.6184 - val_mae: 3.8933\n",
            "Epoch 64/100\n",
            "404/404 [==============================] - 1s 2ms/step - loss: 19.2793 - mae: 3.0683 - val_loss: 29.0841 - val_mae: 3.8492\n",
            "Epoch 65/100\n",
            "404/404 [==============================] - 1s 2ms/step - loss: 17.8202 - mae: 3.1285 - val_loss: 28.0436 - val_mae: 3.8279\n",
            "Epoch 66/100\n",
            "404/404 [==============================] - 1s 3ms/step - loss: 18.5782 - mae: 3.0525 - val_loss: 28.1940 - val_mae: 3.6273\n",
            "Epoch 67/100\n",
            "404/404 [==============================] - 1s 3ms/step - loss: 18.1581 - mae: 3.0459 - val_loss: 29.2542 - val_mae: 3.7198\n",
            "Epoch 68/100\n",
            "404/404 [==============================] - 1s 3ms/step - loss: 18.5485 - mae: 3.0277 - val_loss: 27.9223 - val_mae: 3.8843\n",
            "Epoch 69/100\n",
            "404/404 [==============================] - 1s 3ms/step - loss: 18.7489 - mae: 3.0860 - val_loss: 27.5499 - val_mae: 3.6618\n",
            "Epoch 70/100\n",
            "404/404 [==============================] - 1s 2ms/step - loss: 17.3958 - mae: 2.9910 - val_loss: 29.1373 - val_mae: 3.7367\n",
            "Epoch 71/100\n",
            "404/404 [==============================] - 1s 2ms/step - loss: 18.0780 - mae: 3.0948 - val_loss: 31.4487 - val_mae: 3.8176\n",
            "Epoch 72/100\n",
            "404/404 [==============================] - 1s 2ms/step - loss: 17.7719 - mae: 3.0731 - val_loss: 29.1724 - val_mae: 3.7190\n",
            "Epoch 73/100\n",
            "404/404 [==============================] - 1s 2ms/step - loss: 17.1154 - mae: 2.9896 - val_loss: 34.4068 - val_mae: 4.3090\n",
            "Epoch 74/100\n",
            "404/404 [==============================] - 1s 2ms/step - loss: 16.4456 - mae: 2.9442 - val_loss: 29.9273 - val_mae: 3.6854\n",
            "Epoch 75/100\n",
            "404/404 [==============================] - 1s 2ms/step - loss: 18.0209 - mae: 3.0304 - val_loss: 30.7891 - val_mae: 3.7413\n",
            "Epoch 76/100\n",
            "404/404 [==============================] - 1s 2ms/step - loss: 17.1368 - mae: 2.9607 - val_loss: 27.8521 - val_mae: 3.5395\n",
            "Epoch 77/100\n",
            "404/404 [==============================] - 1s 2ms/step - loss: 17.5366 - mae: 2.9045 - val_loss: 29.7551 - val_mae: 3.6263\n",
            "Epoch 78/100\n",
            "404/404 [==============================] - 1s 2ms/step - loss: 18.3290 - mae: 3.0711 - val_loss: 30.9747 - val_mae: 3.7586\n",
            "Epoch 79/100\n",
            "404/404 [==============================] - 1s 2ms/step - loss: 17.9998 - mae: 2.9810 - val_loss: 28.2339 - val_mae: 3.5882\n",
            "Epoch 80/100\n",
            "404/404 [==============================] - 1s 2ms/step - loss: 17.2510 - mae: 3.0146 - val_loss: 32.9002 - val_mae: 3.9311\n",
            "Epoch 81/100\n",
            "404/404 [==============================] - 1s 2ms/step - loss: 17.3656 - mae: 2.9827 - val_loss: 28.3944 - val_mae: 3.6078\n",
            "Epoch 82/100\n",
            "404/404 [==============================] - 1s 2ms/step - loss: 17.6038 - mae: 2.9407 - val_loss: 32.2218 - val_mae: 3.8850\n",
            "Epoch 83/100\n",
            "404/404 [==============================] - 1s 2ms/step - loss: 15.4792 - mae: 2.8882 - val_loss: 30.8390 - val_mae: 3.8388\n",
            "Epoch 84/100\n",
            "404/404 [==============================] - 1s 2ms/step - loss: 17.8763 - mae: 2.9815 - val_loss: 32.7111 - val_mae: 3.9221\n",
            "Epoch 85/100\n",
            "404/404 [==============================] - 1s 2ms/step - loss: 16.2296 - mae: 2.9122 - val_loss: 31.4659 - val_mae: 3.9220\n",
            "Epoch 86/100\n",
            "404/404 [==============================] - 1s 2ms/step - loss: 17.6519 - mae: 3.0148 - val_loss: 34.5142 - val_mae: 4.1341\n",
            "Epoch 87/100\n",
            "404/404 [==============================] - 1s 2ms/step - loss: 17.3895 - mae: 2.9497 - val_loss: 32.6318 - val_mae: 4.1320\n",
            "Epoch 88/100\n",
            "404/404 [==============================] - 1s 2ms/step - loss: 17.1712 - mae: 2.9573 - val_loss: 30.4486 - val_mae: 3.8442\n",
            "Epoch 89/100\n",
            "404/404 [==============================] - 1s 2ms/step - loss: 17.3613 - mae: 2.9269 - val_loss: 32.5844 - val_mae: 3.8370\n",
            "Epoch 90/100\n",
            "404/404 [==============================] - 1s 2ms/step - loss: 17.6802 - mae: 2.9325 - val_loss: 27.9419 - val_mae: 3.5617\n",
            "Epoch 91/100\n",
            "404/404 [==============================] - 1s 2ms/step - loss: 16.8511 - mae: 2.8621 - val_loss: 37.0123 - val_mae: 4.5559\n",
            "Epoch 92/100\n",
            "404/404 [==============================] - 1s 2ms/step - loss: 15.4359 - mae: 2.7145 - val_loss: 32.8407 - val_mae: 3.8930\n",
            "Epoch 93/100\n",
            "404/404 [==============================] - 1s 2ms/step - loss: 16.2941 - mae: 2.8581 - val_loss: 26.0187 - val_mae: 3.6357\n",
            "Epoch 94/100\n",
            "404/404 [==============================] - 1s 2ms/step - loss: 17.2670 - mae: 2.9586 - val_loss: 33.2965 - val_mae: 3.8789\n",
            "Epoch 95/100\n",
            "404/404 [==============================] - 1s 2ms/step - loss: 16.6841 - mae: 2.8636 - val_loss: 28.3928 - val_mae: 3.5381\n",
            "Epoch 96/100\n",
            "404/404 [==============================] - 1s 2ms/step - loss: 16.9638 - mae: 2.9090 - val_loss: 35.7961 - val_mae: 4.0186\n",
            "Epoch 97/100\n",
            "404/404 [==============================] - 1s 2ms/step - loss: 16.8972 - mae: 2.9028 - val_loss: 34.1907 - val_mae: 4.1026\n",
            "Epoch 98/100\n",
            "404/404 [==============================] - 1s 2ms/step - loss: 16.1202 - mae: 2.9202 - val_loss: 29.9678 - val_mae: 3.6815\n",
            "Epoch 99/100\n",
            "404/404 [==============================] - 1s 2ms/step - loss: 15.3698 - mae: 2.8519 - val_loss: 46.1011 - val_mae: 4.6456\n",
            "Epoch 100/100\n",
            "404/404 [==============================] - 1s 2ms/step - loss: 16.9575 - mae: 2.8332 - val_loss: 44.2854 - val_mae: 4.7802\n"
          ]
        }
      ]
    }
  ]
}