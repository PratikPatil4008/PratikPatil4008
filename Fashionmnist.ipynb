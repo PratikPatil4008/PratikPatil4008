{
  "nbformat": 4,
  "nbformat_minor": 0,
  "metadata": {
    "colab": {
      "provenance": []
    },
    "kernelspec": {
      "name": "python3",
      "display_name": "Python 3"
    },
    "language_info": {
      "name": "python"
    }
  },
  "cells": [
    {
      "cell_type": "code",
      "execution_count": 1,
      "metadata": {
        "id": "_kyVjtQa7-QL"
      },
      "outputs": [],
      "source": [
        "# Importing Packages\n",
        "import numpy as np\n",
        "import keras\n",
        "from keras.models import Sequential\n",
        "from keras.layers import Flatten, Dense\n",
        "import matplotlib.pyplot as plt\n",
        "%matplotlib inline"
      ]
    },
    {
      "cell_type": "code",
      "source": [
        "# Loading Dataset\n",
        "from keras.datasets import fashion_mnist\n",
        "(x_train, x_lab),(y_test, y_lab) = fashion_mnist.load_data()\n",
        "plt.imshow(x_train[0])\n",
        "plt.title('Class: {}'.format(x_lab[0]))\n",
        "plt.figure()"
      ],
      "metadata": {
        "colab": {
          "base_uri": "https://localhost:8080/",
          "height": 455
        },
        "id": "vKedkc1r8AQf",
        "outputId": "f6cff6a2-ca48-4a49-ef61-25b1dcee7dda"
      },
      "execution_count": 2,
      "outputs": [
        {
          "output_type": "stream",
          "name": "stdout",
          "text": [
            "Downloading data from https://storage.googleapis.com/tensorflow/tf-keras-datasets/train-labels-idx1-ubyte.gz\n",
            "29515/29515 [==============================] - 0s 0us/step\n",
            "Downloading data from https://storage.googleapis.com/tensorflow/tf-keras-datasets/train-images-idx3-ubyte.gz\n",
            "26421880/26421880 [==============================] - 0s 0us/step\n",
            "Downloading data from https://storage.googleapis.com/tensorflow/tf-keras-datasets/t10k-labels-idx1-ubyte.gz\n",
            "5148/5148 [==============================] - 0s 0us/step\n",
            "Downloading data from https://storage.googleapis.com/tensorflow/tf-keras-datasets/t10k-images-idx3-ubyte.gz\n",
            "4422102/4422102 [==============================] - 0s 0us/step\n"
          ]
        },
        {
          "output_type": "execute_result",
          "data": {
            "text/plain": [
              "<Figure size 432x288 with 0 Axes>"
            ]
          },
          "metadata": {},
          "execution_count": 2
        },
        {
          "output_type": "display_data",
          "data": {
            "text/plain": [
              "<Figure size 432x288 with 1 Axes>"
            ],
            "image/png": "[encoded data removed]"
          },
          "metadata": {
            "needs_background": "light"
          }
        },
        {
          "output_type": "display_data",
          "data": {
            "text/plain": [
              "<Figure size 432x288 with 0 Axes>"
            ]
          },
          "metadata": {}
        }
      ]
    },
    {
      "cell_type": "code",
      "source": [
        "# Normalizing the Data\n",
        "x_train = keras.utils.normalize(x_train, axis = 1)\n",
        "y_test = keras.utils.normalize(y_test, axis = 1)\n",
        "plt.imshow(x_train[0])\n",
        "plt.title('Class: {}'.format(x_lab[0]))\n",
        "plt.figure()\n"
      ],
      "metadata": {
        "colab": {
          "base_uri": "https://localhost:8080/",
          "height": 316
        },
        "id": "CnWSkRLt8Afj",
        "outputId": "3eee6f68-55ca-4047-d361-6d96b8de89a6"
      },
      "execution_count": 3,
      "outputs": [
        {
          "output_type": "execute_result",
          "data": {
            "text/plain": [
              "<Figure size 432x288 with 0 Axes>"
            ]
          },
          "metadata": {},
          "execution_count": 3
        },
        {
          "output_type": "display_data",
          "data": {
            "text/plain": [
              "<Figure size 432x288 with 1 Axes>"
            ],
            "image/png": "[encoded data removed]"
          },
          "metadata": {
            "needs_background": "light"
          }
        },
        {
          "output_type": "display_data",
          "data": {
            "text/plain": [
              "<Figure size 432x288 with 0 Axes>"
            ]
          },
          "metadata": {}
        }
      ]
    },
    {
      "cell_type": "code",
      "source": [
        "# Defining the Model\n",
        "model = Sequential()\n",
        "model.add(Flatten(input_shape=((28,28))))\n",
        "model.add(Dense(200, activation=\"relu\"))\n",
        "model.add(Dense(10, activation=\"softmax\"))"
      ],
      "metadata": {
        "id": "5NuE1l4c8AsC"
      },
      "execution_count": 4,
      "outputs": []
    },
    {
      "cell_type": "code",
      "source": [
        "# Compiling the Model\n",
        "model.compile(optimizer = \"adam\", loss=\"sparse_categorical_crossentropy\", metrics = [\"accuracy\"])"
      ],
      "metadata": {
        "id": "LfGztbTA8A1_"
      },
      "execution_count": 5,
      "outputs": []
    },
    {
      "cell_type": "code",
      "source": [
        "model.fit(x_train,x_lab,epochs=20)"
      ],
      "metadata": {
        "colab": {
          "base_uri": "https://localhost:8080/"
        },
        "id": "9eNPKTUG8-fj",
        "outputId": "eea19dee-e241-40fd-ddeb-b91aae100dfa"
      },
      "execution_count": 9,
      "outputs": [
        {
          "output_type": "stream",
          "name": "stdout",
          "text": [
            "Epoch 1/20\n",
            "1875/1875 [==============================] - 8s 4ms/step - loss: 0.4919 - accuracy: 0.8209\n",
            "Epoch 2/20\n",
            "1875/1875 [==============================] - 8s 4ms/step - loss: 0.3628 - accuracy: 0.8668\n",
            "Epoch 3/20\n",
            "1875/1875 [==============================] - 7s 4ms/step - loss: 0.3216 - accuracy: 0.8812\n",
            "Epoch 4/20\n",
            "1875/1875 [==============================] - 8s 4ms/step - loss: 0.2972 - accuracy: 0.8903\n",
            "Epoch 5/20\n",
            "1875/1875 [==============================] - 9s 5ms/step - loss: 0.2770 - accuracy: 0.8963\n",
            "Epoch 6/20\n",
            "1875/1875 [==============================] - 7s 4ms/step - loss: 0.2605 - accuracy: 0.9009\n",
            "Epoch 7/20\n",
            "1875/1875 [==============================] - 8s 4ms/step - loss: 0.2475 - accuracy: 0.9060\n",
            "Epoch 8/20\n",
            "1875/1875 [==============================] - 8s 4ms/step - loss: 0.2346 - accuracy: 0.9118\n",
            "Epoch 9/20\n",
            "1875/1875 [==============================] - 8s 4ms/step - loss: 0.2250 - accuracy: 0.9149\n",
            "Epoch 10/20\n",
            "1875/1875 [==============================] - 9s 5ms/step - loss: 0.2143 - accuracy: 0.9194\n",
            "Epoch 11/20\n",
            "1875/1875 [==============================] - 8s 4ms/step - loss: 0.2059 - accuracy: 0.9214\n",
            "Epoch 12/20\n",
            "1875/1875 [==============================] - 9s 5ms/step - loss: 0.1976 - accuracy: 0.9251\n",
            "Epoch 13/20\n",
            "1875/1875 [==============================] - 8s 4ms/step - loss: 0.1883 - accuracy: 0.9295\n",
            "Epoch 14/20\n",
            "1875/1875 [==============================] - 8s 4ms/step - loss: 0.1811 - accuracy: 0.9319\n",
            "Epoch 15/20\n",
            "1875/1875 [==============================] - 7s 4ms/step - loss: 0.1732 - accuracy: 0.9358\n",
            "Epoch 16/20\n",
            "1875/1875 [==============================] - 8s 4ms/step - loss: 0.1661 - accuracy: 0.9374\n",
            "Epoch 17/20\n",
            "1875/1875 [==============================] - 7s 4ms/step - loss: 0.1611 - accuracy: 0.9389\n",
            "Epoch 18/20\n",
            "1875/1875 [==============================] - 7s 4ms/step - loss: 0.1543 - accuracy: 0.9423\n",
            "Epoch 19/20\n",
            "1875/1875 [==============================] - 7s 4ms/step - loss: 0.1481 - accuracy: 0.9445\n",
            "Epoch 20/20\n",
            "1875/1875 [==============================] - 7s 4ms/step - loss: 0.1444 - accuracy: 0.9456\n"
          ]
        },
        {
          "output_type": "execute_result",
          "data": {
            "text/plain": [
              "<keras.callbacks.History at 0x7fd74a2bdc50>"
            ]
          },
          "metadata": {},
          "execution_count": 9
        }
      ]
    },
    {
      "cell_type": "code",
      "source": [
        "# Evaluating on the Test Data\n",
        "model.evaluate(y_test, y_lab)"
      ],
      "metadata": {
        "colab": {
          "base_uri": "https://localhost:8080/"
        },
        "id": "_dMabZsv8A5H",
        "outputId": "210dbd34-a376-4858-9211-194ed7bf36f0"
      },
      "execution_count": 10,
      "outputs": [
        {
          "output_type": "stream",
          "name": "stdout",
          "text": [
            "313/313 [==============================] - 1s 2ms/step - loss: 0.3567 - accuracy: 0.8889\n"
          ]
        },
        {
          "output_type": "execute_result",
          "data": {
            "text/plain": [
              "[0.35666027665138245, 0.8888999819755554]"
            ]
          },
          "metadata": {},
          "execution_count": 10
        }
      ]
    },
    {
      "cell_type": "code",
      "source": [
        "# Predict the first 10 images, Probability Distribution\n",
        "p = model.predict(y_test[:10])\n",
        "print(p)"
      ],
      "metadata": {
        "colab": {
          "base_uri": "https://localhost:8080/"
        },
        "id": "lWTf3mFQ8A77",
        "outputId": "d1816627-ac22-4f1d-9953-806a7a65f929"
      },
      "execution_count": 11,
      "outputs": [
        {
          "output_type": "stream",
          "name": "stdout",
          "text": [
            "1/1 [==============================] - 0s 27ms/step\n",
            "[[1.20662581e-13 1.62268376e-20 1.86820226e-10 7.24213116e-13\n",
            "  5.97474923e-13 2.92795193e-08 8.74739896e-13 1.24340277e-05\n",
            "  1.04277329e-12 9.99987423e-01]\n",
            " [2.84124888e-03 1.53654636e-13 9.95149434e-01 2.73356022e-08\n",
            "  9.27570160e-04 6.42098257e-07 1.08103082e-03 4.90672791e-09\n",
            "  4.34118297e-11 2.43926442e-11]\n",
            " [6.17726016e-07 9.99999344e-01 8.37619470e-12 3.61183472e-10\n",
            "  7.75264644e-11 4.86471033e-16 2.60697103e-10 8.67737979e-16\n",
            "  8.65447528e-15 4.20526888e-14]\n",
            " [7.09980208e-09 9.99999940e-01 1.90980782e-12 1.81593283e-08\n",
            "  6.09321149e-10 5.75018851e-16 2.19156637e-11 5.17810873e-22\n",
            "  9.21805967e-15 5.48678456e-16]\n",
            " [8.30155492e-01 3.00450897e-12 7.15508359e-05 5.42485395e-06\n",
            "  8.95157282e-04 4.91862284e-06 1.68867320e-01 6.29054864e-11\n",
            "  1.69986847e-09 5.07978165e-12]\n",
            " [2.05193282e-05 9.99979436e-01 2.74479439e-09 1.89021732e-09\n",
            "  1.08210962e-09 3.64365317e-14 1.60290430e-08 3.35958403e-15\n",
            "  4.81183358e-14 2.68430535e-14]\n",
            " [4.54305734e-07 1.69600770e-13 3.83988081e-04 1.43869014e-11\n",
            "  9.99614418e-01 3.94453803e-10 1.09554276e-06 1.15093126e-11\n",
            "  4.62671520e-14 1.08301084e-13]\n",
            " [7.26804103e-07 1.13873026e-11 9.81773919e-05 1.27748919e-07\n",
            "  7.01124838e-04 4.71668593e-10 9.99199569e-01 3.57139925e-07\n",
            "  5.19692935e-11 2.24841378e-11]\n",
            " [8.37601766e-10 4.83296816e-18 4.11609774e-15 7.28226941e-16\n",
            "  4.00608129e-15 1.00000000e+00 6.92768759e-11 5.88629362e-12\n",
            "  3.61369865e-17 5.95895619e-18]\n",
            " [2.02318128e-11 1.08786529e-13 9.23695146e-16 4.42399856e-16\n",
            "  1.17347229e-10 7.52103972e-07 9.82923290e-16 9.99999166e-01\n",
            "  6.60437816e-11 8.81231514e-08]]\n"
          ]
        }
      ]
    },
    {
      "cell_type": "code",
      "source": [
        "pred = np.argmax(p, axis=1)\n",
        "print(pred)\n",
        "print(y_lab[:10])"
      ],
      "metadata": {
        "colab": {
          "base_uri": "https://localhost:8080/"
        },
        "id": "QpG52z4i8A-m",
        "outputId": "9d7c8fe8-5f33-482c-f59e-5f6a388a2197"
      },
      "execution_count": 12,
      "outputs": [
        {
          "output_type": "stream",
          "name": "stdout",
          "text": [
            "[9 2 1 1 0 1 4 6 5 7]\n",
            "[9 2 1 1 6 1 4 6 5 7]\n"
          ]
        }
      ]
    },
    {
      "cell_type": "code",
      "source": [
        "# Visualizing the result\n",
        "for i in range(10):\n",
        "  plt.imshow(y_test[i], cmap=\"binary\")\n",
        "  plt.title('Original: {}, Predicted: {}'.format(y_lab[i], pred[i]))\n",
        "  plt.axis(\"Off\")\n",
        "  plt.figure()"
      ],
      "metadata": {
        "colab": {
          "base_uri": "https://localhost:8080/",
          "height": 1000
        },
        "id": "HqCJhmCZ8BBc",
        "outputId": "f909aaa4-3a43-408d-b5ad-5ca3960e9790"
      },
      "execution_count": 13,
      "outputs": [
        {
          "output_type": "display_data",
          "data": {
            "text/plain": [
              "<Figure size 432x288 with 1 Axes>"
            ],
            "image/png": "[encoded data removed]"
          },
          "metadata": {
            "needs_background": "light"
          }
        },
        {
          "output_type": "display_data",
          "data": {
            "text/plain": [
              "<Figure size 432x288 with 1 Axes>"
            ],
            "image/png": "[encoded data removed]"
          },
          "metadata": {
            "needs_background": "light"
          }
        },
        {
          "output_type": "display_data",
          "data": {
            "text/plain": [
              "<Figure size 432x288 with 1 Axes>"
            ],
            "image/png": "[encoded data removed]"
          },
          "metadata": {
            "needs_background": "light"
          }
        },
        {
          "output_type": "display_data",
          "data": {
            "text/plain": [
              "<Figure size 432x288 with 1 Axes>"
            ],
            "image/png": "[encoded data removed]"
          },
          "metadata": {
            "needs_background": "light"
          }
        },
        {
          "output_type": "display_data",
          "data": {
            "text/plain": [
              "<Figure size 432x288 with 1 Axes>"
            ],
            "image/png": "[encoded data removed]"
          },
          "metadata": {
            "needs_background": "light"
          }
        },
        {
          "output_type": "display_data",
          "data": {
            "text/plain": [
              "<Figure size 432x288 with 1 Axes>"
            ],
            "image/png": "[encoded data removed]"
          },
          "metadata": {
            "needs_background": "light"
          }
        },
        {
          "output_type": "display_data",
          "data": {
            "text/plain": [
              "<Figure size 432x288 with 1 Axes>"
            ],
            "image/png": "[encoded data removed]"
          },
          "metadata": {
            "needs_background": "light"
          }
        },
        {
          "output_type": "display_data",
          "data": {
            "text/plain": [
              "<Figure size 432x288 with 1 Axes>"
            ],
            "image/png": "[encoded data removed]"
          },
          "metadata": {
            "needs_background": "light"
          }
        },
        {
          "output_type": "display_data",
          "data": {
            "text/plain": [
              "<Figure size 432x288 with 1 Axes>"
            ],
            "image/png": "[encoded data removed]"
          },
          "metadata": {
            "needs_background": "light"
          }
        },
        {
          "output_type": "display_data",
          "data": {
            "text/plain": [
              "<Figure size 432x288 with 1 Axes>"
            ],
            "image/png": "[encoded data removed]"
          },
          "metadata": {
            "needs_background": "light"
          }
        },
        {
          "output_type": "display_data",
          "data": {
            "text/plain": [
              "<Figure size 432x288 with 0 Axes>"
            ]
          },
          "metadata": {}
        }
      ]
    }
  ]
}